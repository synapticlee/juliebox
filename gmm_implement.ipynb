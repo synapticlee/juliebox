{
 "cells": [
  {
   "cell_type": "markdown",
   "metadata": {},
   "source": [
    "### Implementation of gaussian mixture model (aka mixture of gaussians) "
   ]
  },
  {
   "cell_type": "code",
   "execution_count": 1,
   "metadata": {},
   "outputs": [],
   "source": [
    "import numpy as np\n",
    "import matplotlib.pyplot as plt\n",
    "from sklearn.metrics import pairwise_distances_argmin\n",
    "from scipy.stats import multivariate_normal as mvn"
   ]
  },
  {
   "cell_type": "code",
   "execution_count": 2,
   "metadata": {},
   "outputs": [],
   "source": [
    "NClust = 3;"
   ]
  },
  {
   "cell_type": "code",
   "execution_count": 4,
   "metadata": {},
   "outputs": [],
   "source": [
    "dataFname = 'foo.npy'\n",
    "X = np.load(dataFname)"
   ]
  },
  {
   "cell_type": "code",
   "execution_count": 5,
   "metadata": {},
   "outputs": [
    {
     "data": {
      "image/png": "[encoded data removed]",
      "text/plain": [
       "<Figure size 432x288 with 1 Axes>"
      ]
     },
     "metadata": {
      "needs_background": "light"
     },
     "output_type": "display_data"
    }
   ],
   "source": [
    "plt.scatter(X[:,0], X[:,1])\n",
    "plt.axis('square');"
   ]
  },
  {
   "cell_type": "code",
   "execution_count": 6,
   "metadata": {},
   "outputs": [],
   "source": [
    "'''kmeans to have initial means'''\n",
    "def kmeans(X,NClust,NIters=10):\n",
    "    i = np.random.permutation(X.shape[0])[:NClust]\n",
    "    centers = X[i]\n",
    "    for itr in range(1,NIters):\n",
    "        labels = pairwise_distances_argmin(X,centers)\n",
    "        new_centers = np.array([X[labels == i].mean(0)\n",
    "                                for i in range(NClust)])\n",
    "        centers = new_centers\n",
    "    return centers,labels"
   ]
  },
  {
   "cell_type": "code",
   "execution_count": 25,
   "metadata": {},
   "outputs": [],
   "source": [
    "def initParams(X,NClust):\n",
    "    NDim            = X.shape[1]\n",
    "    mu              = np.zeros((NClust, NDim))\n",
    "    cov             = np.zeros((NClust, NDim, NDim))\n",
    "    centers,labels  = kmeans(X,NClust)\n",
    "    NEach           = np.bincount(labels)\n",
    "    pi              = NEach/X.shape[0] #mixing proportions\n",
    "    assert np.isclose(np.sum(pi),1), 'mixing proportions do not sum to 1'\n",
    "    for lb in np.unique(labels):\n",
    "        ix          = np.where(labels==lb)\n",
    "        mu[lb,:]    = np.mean(X[ix,:])\n",
    "        cov[lb,:,:] = np.dot(pi[lb] * np.squeeze(np.transpose(X[ix,:] - mu[lb,:])), \n",
    "                             np.squeeze(X[ix,:] - mu[lb,:])) / NEach[lb]\n",
    "    return mu,cov,pi"
   ]
  },
  {
   "cell_type": "code",
   "execution_count": 9,
   "metadata": {},
   "outputs": [],
   "source": [
    "'''compute posterior probability that each datapoint is in each cluster, \n",
    "i.e. the responsibilities'''\n",
    "def eStep(X,mu,cov,pi,NClust):\n",
    "    NCells = X.shape[0] \n",
    "    posterior = np.zeros((NCells,NClust))\n",
    "    for cl in range(NClust):\n",
    "        likelihood = mvn.pdf(X, mu[cl,:],cov[cl,:,:])\n",
    "        prior = pi[cl]\n",
    "        posterior[:,cl] = likelihood*prior \n",
    "    respb = posterior \n",
    "    resb_norm = np.sum(respb, axis=1)[:,np.newaxis]\n",
    "    gamma = respb / resb_norm\n",
    "    return gamma"
   ]
  },
  {
   "cell_type": "code",
   "execution_count": 10,
   "metadata": {},
   "outputs": [],
   "source": [
    "gamma = eStep(X,mu,cov,pi,NClust)"
   ]
  },
  {
   "cell_type": "code",
   "execution_count": 17,
   "metadata": {},
   "outputs": [],
   "source": [
    "def mStep(X,gamma,NClust):\n",
    "    NDim = X.shape[1]\n",
    "    newPi = np.mean(gamma, axis=0) #mean per cluster\n",
    "    newCov = np.zeros((NClust,NDim,NDim))\n",
    "    '''new centers is \"weighted (by responsibility) average\", returns NDim x NClust'''\n",
    "    newMu = np.transpose(1/np.sum(gamma,axis=0) * np.dot(gamma.T, X).T)\n",
    "    for cl in range(NClust):\n",
    "        meanSub = X - newMu[cl,:]\n",
    "        gammaDiag = np.matrix(np.diag(gamma[:,cl]))\n",
    "        covRaw = meanSub.T * gammaDiag * meanSub\n",
    "        newCov[cl,:,:] = 1/np.sum(gamma,axis=0)[cl] * covRaw \n",
    "    return newPi,newMu,newCov"
   ]
  },
  {
   "cell_type": "code",
   "execution_count": 18,
   "metadata": {},
   "outputs": [],
   "source": [
    "pi,mu,cov = mStep(X,gamma,NClust)"
   ]
  },
  {
   "cell_type": "code",
   "execution_count": 19,
   "metadata": {},
   "outputs": [],
   "source": [
    "def getLoss(X,pi,mu,cov,NClust):\n",
    "    NData = X.shape[0]\n",
    "    loss = np.zeros((NData,NClust))\n",
    "    for cl in range(NClust):\n",
    "        dist = mvn(mu[cl,:], cov[cl],allow_singular=True)\n",
    "        currloss = gamma[:,cl] * (np.log(pi[cl]+0.00001)+\n",
    "                                    dist.logpdf(X)-np.log(gamma[:,cl]+0.000001))\n",
    "        loss[:,cl] = currloss\n",
    "    finalLoss = np.sum(loss)\n",
    "    return finalLoss"
   ]
  },
  {
   "cell_type": "code",
   "execution_count": 28,
   "metadata": {},
   "outputs": [],
   "source": [
    "def fit(X,mu,pi,cov,NClust,NIters):\n",
    "    for run in range(NIters):  \n",
    "        gamma  = eStep(X,mu,cov,pi,NClust)\n",
    "        pi, mu, cov = mStep(X,gamma,NClust)\n",
    "        loss = getLoss(X, pi, mu, cov,NClust)\n",
    "    return pi,mu,cov\n",
    "\n",
    "def predict(X,mu,pi,cov,NClust):\n",
    "    labels = np.zeros((X.shape[0], NClust))\n",
    "\n",
    "    for cl in range(NClust):\n",
    "        labels [:,cl] = pi[cl] * mvn.pdf(X, mu[cl,:], cov[cl])\n",
    "    labels  = labels .argmax(1)\n",
    "    return labels "
   ]
  },
  {
   "cell_type": "code",
   "execution_count": 26,
   "metadata": {},
   "outputs": [],
   "source": [
    "\n",
    "mu,cov,pi = initParams(X,NClust)\n",
    "pi,mu,cov = fit(X,mu,pi,cov,NClust,100)\n"
   ]
  },
  {
   "cell_type": "code",
   "execution_count": 31,
   "metadata": {},
   "outputs": [
    {
     "data": {
      "text/plain": [
       "<matplotlib.colorbar.Colorbar at 0x1f6ae2597f0>"
      ]
     },
     "execution_count": 31,
     "metadata": {},
     "output_type": "execute_result"
    },
    {
     "data": {
      "image/png": "[encoded data removed]",
      "text/plain": [
       "<Figure size 432x288 with 2 Axes>"
      ]
     },
     "metadata": {
      "needs_background": "light"
     },
     "output_type": "display_data"
    }
   ],
   "source": [
    "labels = predict(X,mu,pi,cov,NClust)\n",
    "plt.scatter(X[:, 0], X[:, 1], c=labels, label=labels, s=40, cmap='viridis');\n",
    "plt.axis('square');\n",
    "plt.colorbar()"
   ]
  }
 ],
 "metadata": {
  "kernelspec": {
   "display_name": "Python 3",
   "language": "python",
   "name": "python3"
  },
  "language_info": {
   "codemirror_mode": {
    "name": "ipython",
    "version": 3
   },
   "file_extension": ".py",
   "mimetype": "text/x-python",
   "name": "python",
   "nbconvert_exporter": "python",
   "pygments_lexer": "ipython3",
   "version": "3.7.3"
  }
 },
 "nbformat": 4,
 "nbformat_minor": 2
}
