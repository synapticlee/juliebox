{
 "cells": [
  {
   "cell_type": "markdown",
   "metadata": {},
   "source": [
    "###  Implementation of gaussian mixture model (aka mixture of gaussians) "
   ]
  },
  {
   "cell_type": "code",
   "execution_count": 1,
   "metadata": {},
   "outputs": [],
   "source": [
    "import numpy as np\n",
    "import matplotlib.pyplot as plt\n",
    "from sklearn.metrics import pairwise_distances_argmin\n",
    "from scipy.stats import multivariate_normal as mvn"
   ]
  },
  {
   "cell_type": "code",
   "execution_count": 2,
   "metadata": {},
   "outputs": [],
   "source": [
    "mName = 'JL008'\n",
    "expDate = '2017-09-23'"
   ]
  },
  {
   "cell_type": "code",
   "execution_count": 3,
   "metadata": {},
   "outputs": [],
   "source": [
    "if False:\n",
    "    NClust = int(input(\"How many clusters do you want to fit? \"));\n",
    "else:\n",
    "    NClust = 3"
   ]
  },
  {
   "cell_type": "code",
   "execution_count": 4,
   "metadata": {},
   "outputs": [],
   "source": [
    "dataFname = 'isodistdata_%s_%s.npy' % (mName,expDate)\n",
    "X = np.load('../'+dataFname)\n",
    "if np.any(np.isnan(X)):\n",
    "    print('removing NaN rows...')\n",
    "    print(np.shape(X))\n",
    "    X = X[~np.isnan(X).any(axis=1)]\n",
    "    print(np.shape(X))"
   ]
  },
  {
   "cell_type": "code",
   "execution_count": 5,
   "metadata": {},
   "outputs": [
    {
     "data": {
      "image/png": "[encoded data removed]",
      "text/plain": [
       "<Figure size 432x288 with 1 Axes>"
      ]
     },
     "metadata": {
      "needs_background": "light"
     },
     "output_type": "display_data"
    }
   ],
   "source": [
    "plt.figure(0)\n",
    "plt.scatter(X[:,0], X[:,1]) \n",
    "plt.axis('square');\n",
    "plt.show()"
   ]
  },
  {
   "cell_type": "code",
   "execution_count": 6,
   "metadata": {},
   "outputs": [],
   "source": [
    "'''kmeans to have initial means'''\n",
    "def kmeans(X,NClust,NIters=10):\n",
    "    i = np.random.permutation(X.shape[0])[:NClust]\n",
    "    centers = X[i]\n",
    "    for itr in range(1,NIters):\n",
    "        labels = pairwise_distances_argmin(X,centers)\n",
    "        new_centers = np.array([X[labels == i].mean(0) for i in range(NClust)])\n",
    "        centers = new_centers\n",
    "    return centers,labels\n",
    "\n",
    "def initParams(X,NClust):\n",
    "    NDim            = X.shape[1]\n",
    "    mu              = np.zeros((NClust, NDim))\n",
    "    cov             = np.zeros((NClust, NDim, NDim))\n",
    "    centers,labels  = kmeans(X,NClust) #calls own kmeans function above\n",
    "    NEach           = np.bincount(labels)\n",
    "    pi              = NEach/X.shape[0] #mixing proportions\n",
    "    assert np.isclose(np.sum(pi),1), 'mixing proportions do not sum to 1'\n",
    "    for lb in np.unique(labels):\n",
    "        ix          = np.where(labels==lb)\n",
    "        mu[lb,:]    = np.mean(X[ix,:])\n",
    "        cov[lb,:,:] = np.dot(pi[lb] * np.squeeze(np.transpose(X[ix,:] - mu[lb,:])), \n",
    "                             np.squeeze(X[ix,:] - mu[lb,:])) / NEach[lb]\n",
    "    return mu,cov,pi\n",
    "\n",
    "'''compute posterior probability that each datapoint is in each cluster, \n",
    "i.e. the responsibilities'''\n",
    "def eStep(X,mu,cov,pi,NClust):\n",
    "    NCells = X.shape[0] \n",
    "    posterior = np.zeros((NCells,NClust))\n",
    "    for cl in range(NClust):\n",
    "        likelihood = mvn.pdf(X, mu[cl,:],cov[cl,:,:])\n",
    "        prior = pi[cl]\n",
    "        posterior[:,cl] = likelihood*prior \n",
    "    respb = posterior \n",
    "    resb_norm = np.sum(respb, axis=1)[:,np.newaxis]\n",
    "    gamma = respb / resb_norm #normalize to make it a real pdf (sums to 1)\n",
    "    return gamma\n",
    "\n",
    "def mStep(X,gamma,NClust):\n",
    "    NDim = X.shape[1]\n",
    "    newPi = np.mean(gamma, axis=0) #mean per cluster\n",
    "    newCov = np.zeros((NClust,NDim,NDim))\n",
    "    '''new centers is \"weighted (by responsibility) average\", returns NDim x NClust'''\n",
    "    newMu = np.transpose(1/np.sum(gamma,axis=0) * np.dot(gamma.T, X).T)\n",
    "    \n",
    "    for cl in range(NClust):\n",
    "        meanSub = X - newMu[cl,:]\n",
    "        gammaDiag = np.matrix(np.diag(gamma[:,cl]))\n",
    "        covRaw = meanSub.T * gammaDiag * meanSub\n",
    "        newCov[cl,:,:] = 1/np.sum(gamma,axis=0)[cl] * covRaw \n",
    "    return newPi,newMu,newCov\n",
    "\n",
    "def getLoss(X,pi,mu,cov,gamma,NClust):\n",
    "    NData = X.shape[0]\n",
    "    loss = np.zeros((NData,NClust))\n",
    "    for cl in range(NClust):\n",
    "        dist = mvn(mu[cl,:], cov[cl],allow_singular=True)\n",
    "        currloss = gamma[:,cl] * (np.log(pi[cl]+0.00001)+\n",
    "                                    dist.logpdf(X)-np.log(gamma[:,cl]+0.000001))\n",
    "        loss[:,cl] = currloss\n",
    "    finalLoss = np.sum(loss)\n",
    "    return finalLoss\n",
    "\n",
    "def fit(X,mu,pi,cov,NClust,NIters):\n",
    "    itr = 0\n",
    "    lastLoss = 0\n",
    "    while True:\n",
    "        itr += 1\n",
    "        gamma  = eStep(X,mu,cov,pi,NClust)\n",
    "        pi, mu, cov = mStep(X,gamma,NClust)\n",
    "        loss = getLoss(X, pi, mu, cov,gamma,NClust)\n",
    "        if itr % 10 == 0:\n",
    "            print(\"Iteration: %d Loss: %0.6f\" %(itr, loss))      \n",
    "        if abs(loss-lastLoss) < 1e-6:\n",
    "            break\n",
    "        lastLoss = loss\n",
    "    return pi,mu,cov\n",
    "\n",
    "def predict(X,mu,pi,cov,NClust):\n",
    "    labels = np.zeros((X.shape[0], NClust))\n",
    "\n",
    "    for cl in range(NClust):\n",
    "        labels [:,cl] = pi[cl] * mvn.pdf(X, mu[cl,:], cov[cl])\n",
    "    labels  = labels .argmax(1)\n",
    "    return labels "
   ]
  },
  {
   "cell_type": "code",
   "execution_count": 7,
   "metadata": {},
   "outputs": [
    {
     "name": "stdout",
     "output_type": "stream",
     "text": [
      "Iteration: 10 Loss: -135.122279\n",
      "Iteration: 20 Loss: -115.124794\n",
      "Iteration: 30 Loss: -103.617409\n"
     ]
    }
   ],
   "source": [
    "mu,cov,pi = initParams(X,NClust)\n",
    "pi,mu,cov = fit(X,mu,pi,cov,NClust,100)"
   ]
  },
  {
   "cell_type": "code",
   "execution_count": 8,
   "metadata": {},
   "outputs": [
    {
     "data": {
      "image/png": "[encoded data removed]",
      "text/plain": [
       "<Figure size 432x288 with 2 Axes>"
      ]
     },
     "metadata": {
      "needs_background": "light"
     },
     "output_type": "display_data"
    }
   ],
   "source": [
    "labels = predict(X,mu,pi,cov,NClust)\n",
    "plt.figure(1)\n",
    "plt.scatter(X[:, 0], X[:, 1], c=labels, label=labels, s=40, cmap='viridis');\n",
    "plt.axis('square');\n",
    "plt.xlabel('T-maze activity')\n",
    "plt.ylabel('SW task activity')\n",
    "plt.colorbar()\n",
    "plt.show()"
   ]
  }
 ],
 "metadata": {
  "jupytext": {
   "formats": "ipynb,py:light"
  },
  "kernelspec": {
   "display_name": "Python 3",
   "language": "python",
   "name": "python3"
  },
  "language_info": {
   "codemirror_mode": {
    "name": "ipython",
    "version": 3
   },
   "file_extension": ".py",
   "mimetype": "text/x-python",
   "name": "python",
   "nbconvert_exporter": "python",
   "pygments_lexer": "ipython3",
   "version": "3.8.3"
  }
 },
 "nbformat": 4,
 "nbformat_minor": 2
}
